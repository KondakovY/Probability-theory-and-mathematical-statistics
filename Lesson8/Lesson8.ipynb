{
 "cells": [
  {
   "cell_type": "code",
   "execution_count": 1,
   "id": "a3494c47",
   "metadata": {},
   "outputs": [],
   "source": [
    "import pandas as pd\n",
    "import numpy as np"
   ]
  },
  {
   "cell_type": "markdown",
   "id": "46242837",
   "metadata": {},
   "source": [
    "1.Провести дисперсионный анализ для определения того, есть ли различия среднего роста среди взрослых футболистов, хоккеистов и штангистов. (Сделать вывод для альфа 1% и 5%) Даны значения роста в трех группах случайно выбранных спортсменов: Футболисты: 173, 175, 180, 178, 177, 185, 183, 182. Хоккеисты: 177, 179, 180, 188, 177, 172, 171, 184, 180. Штангисты: 172, 173, 169, 177, 166, 180, 178, 177, 172, 166, 170."
   ]
  },
  {
   "cell_type": "code",
   "execution_count": 5,
   "id": "e5919acf",
   "metadata": {},
   "outputs": [],
   "source": [
    "football_players = np.array([173, 175, 180, 178, 177, 185, 183, 182])\n",
    "hockey_players = np.array([177, 179, 180, 188, 177, 172, 171, 184, 180])\n",
    "weightlifters = np.array([172, 173, 169, 177, 166, 180, 178, 177, 172, 166, 170])"
   ]
  },
  {
   "cell_type": "markdown",
   "id": "70dbd9d0",
   "metadata": {},
   "source": [
    "Средний рост:"
   ]
  },
  {
   "cell_type": "code",
   "execution_count": 6,
   "id": "9fba23f8",
   "metadata": {},
   "outputs": [
    {
     "data": {
      "text/plain": [
       "179.125"
      ]
     },
     "execution_count": 6,
     "metadata": {},
     "output_type": "execute_result"
    }
   ],
   "source": [
    "f_mean = football_players.mean()\n",
    "f_mean"
   ]
  },
  {
   "cell_type": "code",
   "execution_count": 10,
   "id": "f468a19e",
   "metadata": {},
   "outputs": [
    {
     "data": {
      "text/plain": [
       "178.66666666666666"
      ]
     },
     "execution_count": 10,
     "metadata": {},
     "output_type": "execute_result"
    }
   ],
   "source": [
    "h_mean = hockey_players.mean()\n",
    "h_mean"
   ]
  },
  {
   "cell_type": "code",
   "execution_count": 11,
   "id": "0f15f2cd",
   "metadata": {},
   "outputs": [
    {
     "data": {
      "text/plain": [
       "172.72727272727272"
      ]
     },
     "execution_count": 11,
     "metadata": {},
     "output_type": "execute_result"
    }
   ],
   "source": [
    "w_mean = weightlifters.mean()\n",
    "w_mean"
   ]
  },
  {
   "cell_type": "markdown",
   "id": "41143d8c",
   "metadata": {},
   "source": [
    "Найдем среднее значение роста по всем значениям:"
   ]
  },
  {
   "cell_type": "code",
   "execution_count": 12,
   "id": "cccf38f1",
   "metadata": {},
   "outputs": [
    {
     "data": {
      "text/plain": [
       "176.46428571428572"
      ]
     },
     "execution_count": 12,
     "metadata": {},
     "output_type": "execute_result"
    }
   ],
   "source": [
    "all_hight = np.hstack((football_players,hockey_players, weightlifters))\n",
    "all_mean = all_hight.mean()\n",
    "all_mean"
   ]
  },
  {
   "cell_type": "markdown",
   "id": "4261702f",
   "metadata": {},
   "source": [
    "Найдем сумму квадратов отклонений наблюдений от общего среднего:"
   ]
  },
  {
   "cell_type": "code",
   "execution_count": 13,
   "id": "dbe89d2b",
   "metadata": {},
   "outputs": [
    {
     "data": {
      "text/plain": [
       "830.9642857142854"
      ]
     },
     "execution_count": 13,
     "metadata": {},
     "output_type": "execute_result"
    }
   ],
   "source": [
    "all_s2 = np.sum((all_hight - all_mean) ** 2)\n",
    "all_s2"
   ]
  },
  {
   "cell_type": "markdown",
   "id": "b570d6e1",
   "metadata": {},
   "source": [
    "Найдем сумму квадратов отклонений средних групповых значений от общего среднего:"
   ]
  },
  {
   "cell_type": "code",
   "execution_count": 15,
   "id": "afec19b7",
   "metadata": {},
   "outputs": [
    {
     "data": {
      "text/plain": [
       "253.9074675324678"
      ]
     },
     "execution_count": 15,
     "metadata": {},
     "output_type": "execute_result"
    }
   ],
   "source": [
    "s2f = (f_mean - all_mean) ** 2 * len(football_players) + (h_mean - all_mean) ** 2 * len(hockey_players) + (w_mean - all_mean) ** 2 * len(weightlifters)\n",
    "s2f"
   ]
  },
  {
   "cell_type": "markdown",
   "id": "662ba75a",
   "metadata": {},
   "source": [
    "Найдем остаточную сумму квадратов отклонений:"
   ]
  },
  {
   "cell_type": "code",
   "execution_count": 17,
   "id": "71f18096",
   "metadata": {},
   "outputs": [
    {
     "data": {
      "text/plain": [
       "577.0568181818182"
      ]
     },
     "execution_count": 17,
     "metadata": {},
     "output_type": "execute_result"
    }
   ],
   "source": [
    "s2_ost = np.sum((football_players - f_mean) ** 2) + np.sum((hockey_players - h_mean) ** 2) + np.sum((weightlifters - w_mean) ** 2)\n",
    "s2_ost"
   ]
  },
  {
   "cell_type": "markdown",
   "id": "c3112ec8",
   "metadata": {},
   "source": [
    "Удостоверимся, что соблюдается равенство:"
   ]
  },
  {
   "cell_type": "code",
   "execution_count": 30,
   "id": "a7021bd2",
   "metadata": {},
   "outputs": [
    {
     "name": "stdout",
     "output_type": "stream",
     "text": [
      "830.9642857142854\n",
      "830.964285714286\n"
     ]
    }
   ],
   "source": [
    "print(all_s2)\n",
    "print(s2_ost + s2f)"
   ]
  },
  {
   "cell_type": "markdown",
   "id": "749c4e7f",
   "metadata": {},
   "source": [
    "Общая дисперсия:"
   ]
  },
  {
   "cell_type": "code",
   "execution_count": 20,
   "id": "d241869c",
   "metadata": {},
   "outputs": [
    {
     "data": {
      "text/plain": [
       "30.776455026455015"
      ]
     },
     "execution_count": 20,
     "metadata": {},
     "output_type": "execute_result"
    }
   ],
   "source": [
    "s2_general = all_s2 / (len(all_hight) - 1)\n",
    "s2_general"
   ]
  },
  {
   "cell_type": "markdown",
   "id": "db04727f",
   "metadata": {},
   "source": [
    "Факторная дисперсия:"
   ]
  },
  {
   "cell_type": "code",
   "execution_count": 21,
   "id": "44b75daf",
   "metadata": {},
   "outputs": [
    {
     "data": {
      "text/plain": [
       "126.9537337662339"
      ]
     },
     "execution_count": 21,
     "metadata": {},
     "output_type": "execute_result"
    }
   ],
   "source": [
    "s2_factor = s2f / (3 - 1)\n",
    "s2_factor"
   ]
  },
  {
   "cell_type": "markdown",
   "id": "daa662d9",
   "metadata": {},
   "source": [
    "Остаточная дисперсия:"
   ]
  },
  {
   "cell_type": "code",
   "execution_count": 23,
   "id": "7abcc2da",
   "metadata": {},
   "outputs": [
    {
     "data": {
      "text/plain": [
       "23.08227272727273"
      ]
     },
     "execution_count": 23,
     "metadata": {},
     "output_type": "execute_result"
    }
   ],
   "source": [
    "s2_residual = s2_ost / (len(all_hight) - 3)\n",
    "s2_residual"
   ]
  },
  {
   "cell_type": "markdown",
   "id": "ea03d215",
   "metadata": {},
   "source": [
    "Вычислим FH :"
   ]
  },
  {
   "cell_type": "code",
   "execution_count": 24,
   "id": "ecfb12de",
   "metadata": {},
   "outputs": [
    {
     "data": {
      "text/plain": [
       "5.500053450812598"
      ]
     },
     "execution_count": 24,
     "metadata": {},
     "output_type": "execute_result"
    }
   ],
   "source": [
    "F_h = s2_factor / s2_residual\n",
    "F_h"
   ]
  },
  {
   "cell_type": "code",
   "execution_count": 25,
   "id": "78d41ef8",
   "metadata": {},
   "outputs": [
    {
     "data": {
      "text/plain": [
       "28"
      ]
     },
     "execution_count": 25,
     "metadata": {},
     "output_type": "execute_result"
    }
   ],
   "source": [
    "len(all_hight)"
   ]
  },
  {
   "cell_type": "code",
   "execution_count": 26,
   "id": "63433d00",
   "metadata": {},
   "outputs": [
    {
     "data": {
      "text/plain": [
       "(2, 25)"
      ]
     },
     "execution_count": 26,
     "metadata": {},
     "output_type": "execute_result"
    }
   ],
   "source": [
    "alpha = 0.05\n",
    "d_f1 = 3 - 1\n",
    "d_f2 = len(all_hight) - 3\n",
    "d_f1, d_f2"
   ]
  },
  {
   "cell_type": "code",
   "execution_count": 27,
   "id": "0036dcaf",
   "metadata": {},
   "outputs": [],
   "source": [
    "F_kr = 3.4928"
   ]
  },
  {
   "cell_type": "code",
   "execution_count": 28,
   "id": "0d2e0023",
   "metadata": {},
   "outputs": [
    {
     "data": {
      "text/plain": [
       "False"
      ]
     },
     "execution_count": 28,
     "metadata": {},
     "output_type": "execute_result"
    }
   ],
   "source": [
    "F_kr > F_h"
   ]
  },
  {
   "cell_type": "markdown",
   "id": "56235e46",
   "metadata": {},
   "source": [
    "Вывод:различие среднего роста в трех группах статистически значимо."
   ]
  },
  {
   "cell_type": "markdown",
   "id": "0cdc4d92",
   "metadata": {},
   "source": [
    "Также вычислим эмпирическое корреляционное отношение η2 :"
   ]
  },
  {
   "cell_type": "code",
   "execution_count": 32,
   "id": "89be9095",
   "metadata": {},
   "outputs": [
    {
     "data": {
      "text/plain": [
       "(0.30555761769498, 0.5527726636647112)"
      ]
     },
     "execution_count": 32,
     "metadata": {},
     "output_type": "execute_result"
    }
   ],
   "source": [
    "eta2 = s2f / all_s2\n",
    "n=(eta2)**0.5\n",
    "eta2,n"
   ]
  },
  {
   "cell_type": "markdown",
   "id": "dae50b8d",
   "metadata": {},
   "source": [
    "Связь существует, однако носит умеренный характер."
   ]
  },
  {
   "cell_type": "code",
   "execution_count": null,
   "id": "219dfa73",
   "metadata": {},
   "outputs": [],
   "source": []
  }
 ],
 "metadata": {
  "kernelspec": {
   "display_name": "Python 3",
   "language": "python",
   "name": "python3"
  },
  "language_info": {
   "codemirror_mode": {
    "name": "ipython",
    "version": 3
   },
   "file_extension": ".py",
   "mimetype": "text/x-python",
   "name": "python",
   "nbconvert_exporter": "python",
   "pygments_lexer": "ipython3",
   "version": "3.8.8"
  }
 },
 "nbformat": 4,
 "nbformat_minor": 5
}
