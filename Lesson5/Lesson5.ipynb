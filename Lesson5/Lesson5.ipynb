{
 "cells": [
  {
   "cell_type": "code",
   "execution_count": 1,
   "id": "063d6dac",
   "metadata": {},
   "outputs": [],
   "source": [
    "import numpy as np\n",
    "import math\n",
    "from scipy.stats import norm\n",
    "from scipy.stats import t"
   ]
  },
  {
   "cell_type": "markdown",
   "id": "217eef72",
   "metadata": {},
   "source": [
    "1.Известно, что генеральная совокупность распределена нормально\n",
    "со средним квадратическим отклонением, равным 16.\n",
    "Найти доверительный интервал для оценки математического ожидания a с надежностью 0.95,\n",
    "если выборочная средняя M = 80, а объем выборки n = 256."
   ]
  },
  {
   "cell_type": "markdown",
   "id": "eec83715",
   "metadata": {},
   "source": [
    "Значение Z для интервала 0.95:"
   ]
  },
  {
   "cell_type": "code",
   "execution_count": 2,
   "id": "b1d88a89",
   "metadata": {},
   "outputs": [
    {
     "data": {
      "text/plain": [
       "1.959963984540054"
      ]
     },
     "execution_count": 2,
     "metadata": {},
     "output_type": "execute_result"
    }
   ],
   "source": [
    "z=norm.ppf((1+0.95)/2)\n",
    "z"
   ]
  },
  {
   "cell_type": "markdown",
   "id": "b5b6405e",
   "metadata": {},
   "source": [
    "Вычисляем интервал:"
   ]
  },
  {
   "cell_type": "code",
   "execution_count": 3,
   "id": "1c3c58dc",
   "metadata": {},
   "outputs": [
    {
     "data": {
      "text/plain": [
       "1.959963984540054"
      ]
     },
     "execution_count": 3,
     "metadata": {},
     "output_type": "execute_result"
    }
   ],
   "source": [
    "d=z*16/math.sqrt(256)\n",
    "d"
   ]
  },
  {
   "cell_type": "markdown",
   "id": "687e818d",
   "metadata": {},
   "source": [
    "Доверительный интервал: 80 +/- 1.959963984540054"
   ]
  },
  {
   "cell_type": "markdown",
   "id": "c48a09b3",
   "metadata": {},
   "source": [
    "2.В результате 10 независимых измерений некоторой величины X, выполненных с одинаковой точностью,\n",
    "получены опытные данные:\n",
    "6.9, 6.1, 6.2, 6.8, 7.5, 6.3, 6.4, 6.9, 6.7, 6.1\n",
    "Предполагая, что результаты измерений подчинены нормальному закону распределения вероятностей,\n",
    "оценить истинное значение величины X при помощи доверительного интервала, покрывающего это\n",
    "значение с доверительной вероятностью 0,95."
   ]
  },
  {
   "cell_type": "code",
   "execution_count": 4,
   "id": "5c08dd80",
   "metadata": {},
   "outputs": [],
   "source": [
    "ar=np.array([6.9, 6.1, 6.2, 6.8, 7.5, 6.3, 6.4, 6.9, 6.7, 6.1])"
   ]
  },
  {
   "cell_type": "markdown",
   "id": "26fb22fb",
   "metadata": {},
   "source": [
    "Вычисляем количество в выборке, СКО и мат.ожидание: "
   ]
  },
  {
   "cell_type": "code",
   "execution_count": 5,
   "id": "91a9f46a",
   "metadata": {},
   "outputs": [
    {
     "data": {
      "text/plain": [
       "(10, 0.4508017549014448, 6.590000000000001)"
      ]
     },
     "execution_count": 5,
     "metadata": {},
     "output_type": "execute_result"
    }
   ],
   "source": [
    "n=ar.size\n",
    "std=ar.std(ddof=1)\n",
    "mean=ar.mean()\n",
    "n,std,mean"
   ]
  },
  {
   "cell_type": "markdown",
   "id": "720e52d9",
   "metadata": {},
   "source": [
    "Вычисляем интервал:"
   ]
  },
  {
   "cell_type": "code",
   "execution_count": 6,
   "id": "534f7463",
   "metadata": {},
   "outputs": [
    {
     "data": {
      "text/plain": [
       "0.279404688242094"
      ]
     },
     "execution_count": 6,
     "metadata": {},
     "output_type": "execute_result"
    }
   ],
   "source": [
    "z=norm.ppf((1+0.95)/2)\n",
    "d=z*std/math.sqrt(n)\n",
    "d"
   ]
  },
  {
   "cell_type": "markdown",
   "id": "7b3f806c",
   "metadata": {},
   "source": [
    "Значение величины 6,59 +/-0.279404688242094"
   ]
  },
  {
   "cell_type": "markdown",
   "id": "815a3d88",
   "metadata": {},
   "source": [
    "3. Утверждается, что шарики для подшипников, изготовленные автоматическим станком, имеют средний диаметр 17 мм.\n",
    "Используя односторонний критерий с α=0,05, проверить эту гипотезу, если в выборке из n=100 шариков средний диаметр\n",
    "оказался равным 17.5 мм, а дисперсия известна и равна 4 кв. мм."
   ]
  },
  {
   "cell_type": "markdown",
   "id": "9c7271dc",
   "metadata": {},
   "source": [
    "Определяем переменные α,выборку,дисперсию и СКО: "
   ]
  },
  {
   "cell_type": "code",
   "execution_count": 7,
   "id": "9133d296",
   "metadata": {},
   "outputs": [],
   "source": [
    "a=0.05\n",
    "n=100\n",
    "disp=4\n",
    "std=math.sqrt(disp)"
   ]
  },
  {
   "cell_type": "markdown",
   "id": "bf8ba0dd",
   "metadata": {},
   "source": [
    "Вычисляем критическое Z для 5%:"
   ]
  },
  {
   "cell_type": "code",
   "execution_count": 8,
   "id": "884b679a",
   "metadata": {},
   "outputs": [
    {
     "data": {
      "text/plain": [
       "1.6448536269514722"
      ]
     },
     "execution_count": 8,
     "metadata": {},
     "output_type": "execute_result"
    }
   ],
   "source": [
    "zt=norm.ppf(1-a)\n",
    "zt"
   ]
  },
  {
   "cell_type": "markdown",
   "id": "460f757f",
   "metadata": {},
   "source": [
    "Вычисляем Z для 17.5мм:"
   ]
  },
  {
   "cell_type": "code",
   "execution_count": 9,
   "id": "84f3dea7",
   "metadata": {},
   "outputs": [
    {
     "data": {
      "text/plain": [
       "0.025"
      ]
     },
     "execution_count": 9,
     "metadata": {},
     "output_type": "execute_result"
    }
   ],
   "source": [
    "zh=(17.5-17)/std/math.sqrt(n)\n",
    "zh"
   ]
  },
  {
   "cell_type": "markdown",
   "id": "56a42ef1",
   "metadata": {},
   "source": [
    "Проводим сравнение zt и zh, если zh меньше zt, то H0 гипотеза верна на уровне значимости 5%:"
   ]
  },
  {
   "cell_type": "code",
   "execution_count": 11,
   "id": "98893df5",
   "metadata": {},
   "outputs": [
    {
     "name": "stdout",
     "output_type": "stream",
     "text": [
      "Гипотеза H0 верна.\n"
     ]
    }
   ],
   "source": [
    "if zt > zh:\n",
    "    print(\"Гипотеза H0 верна.\")"
   ]
  },
  {
   "cell_type": "markdown",
   "id": "49f38bb3",
   "metadata": {},
   "source": [
    "4.Продавец утверждает, что средний вес пачки печенья составляет 200 г. Из партии извлечена выборка из 10 пачек. Вес каждой пачки составляет: 202, 203, 199, 197, 195, 201, 200, 204, 194, 190. Известно, что их веса распределены нормально. Верно ли утверждение продавца, если учитывать, что доверительная вероятность равна 99%?"
   ]
  },
  {
   "cell_type": "code",
   "execution_count": 12,
   "id": "d9c89960",
   "metadata": {},
   "outputs": [],
   "source": [
    "ar=np.array([202, 203, 199, 197, 195, 201, 200, 204, 194, 190])"
   ]
  },
  {
   "cell_type": "code",
   "execution_count": 13,
   "id": "2dfef60d",
   "metadata": {},
   "outputs": [],
   "source": [
    "H0=200\n",
    "a=0.99\n",
    "n=10"
   ]
  },
  {
   "cell_type": "markdown",
   "id": "81489a7d",
   "metadata": {},
   "source": [
    "Вычисляем СКО и мат.ожидание:"
   ]
  },
  {
   "cell_type": "code",
   "execution_count": 14,
   "id": "9675182a",
   "metadata": {},
   "outputs": [
    {
     "data": {
      "text/plain": [
       "(4.453463071962462, 198.5)"
      ]
     },
     "execution_count": 14,
     "metadata": {},
     "output_type": "execute_result"
    }
   ],
   "source": [
    "std=ar.std(ddof=1)\n",
    "mean=ar.mean()\n",
    "std,mean"
   ]
  },
  {
   "cell_type": "markdown",
   "id": "7d67a9ed",
   "metadata": {},
   "source": [
    "Вычисляем критическое Z для 1% т.к. 200>198.5 будем считать слева. Гипотеза H0 будет верна если zt<zh:"
   ]
  },
  {
   "cell_type": "code",
   "execution_count": 15,
   "id": "bd9b5b49",
   "metadata": {},
   "outputs": [
    {
     "data": {
      "text/plain": [
       "-2.5758293035489004"
      ]
     },
     "execution_count": 15,
     "metadata": {},
     "output_type": "execute_result"
    }
   ],
   "source": [
    "zt=norm.ppf((1-a)/2)\n",
    "zt"
   ]
  },
  {
   "cell_type": "markdown",
   "id": "d8050b78",
   "metadata": {},
   "source": [
    "Вычисляем Z для 198.5г:"
   ]
  },
  {
   "cell_type": "code",
   "execution_count": 16,
   "id": "78361201",
   "metadata": {},
   "outputs": [
    {
     "data": {
      "text/plain": [
       "-0.10651074037450894"
      ]
     },
     "execution_count": 16,
     "metadata": {},
     "output_type": "execute_result"
    }
   ],
   "source": [
    "zh=(mean-H0)/std/math.sqrt(n)\n",
    "zh"
   ]
  },
  {
   "cell_type": "markdown",
   "id": "a06e5bff",
   "metadata": {},
   "source": [
    "Проводим сравнение zt и zh, если zh больше zt, то H0 гипотеза верна на уровне значимости 99%:"
   ]
  },
  {
   "cell_type": "code",
   "execution_count": 17,
   "id": "6480b977",
   "metadata": {},
   "outputs": [
    {
     "name": "stdout",
     "output_type": "stream",
     "text": [
      "Гипотеза H0 верна.\n"
     ]
    }
   ],
   "source": [
    "if zt < zh:\n",
    "    print(\"Гипотеза H0 верна.\")"
   ]
  },
  {
   "cell_type": "code",
   "execution_count": null,
   "id": "d202222d",
   "metadata": {},
   "outputs": [],
   "source": []
  },
  {
   "cell_type": "code",
   "execution_count": null,
   "id": "e5c968b3",
   "metadata": {},
   "outputs": [],
   "source": []
  }
 ],
 "metadata": {
  "kernelspec": {
   "display_name": "Python 3",
   "language": "python",
   "name": "python3"
  },
  "language_info": {
   "codemirror_mode": {
    "name": "ipython",
    "version": 3
   },
   "file_extension": ".py",
   "mimetype": "text/x-python",
   "name": "python",
   "nbconvert_exporter": "python",
   "pygments_lexer": "ipython3",
   "version": "3.8.8"
  }
 },
 "nbformat": 4,
 "nbformat_minor": 5
}
